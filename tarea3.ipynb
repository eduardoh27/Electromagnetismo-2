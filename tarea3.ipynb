{
 "cells": [
  {
   "cell_type": "code",
   "execution_count": null,
   "id": "28d4cc87",
   "metadata": {},
   "outputs": [],
   "source": [
    "import numpy as np\n",
    "import matplotlib.pyplot as plt"
   ]
  },
  {
   "cell_type": "code",
   "execution_count": null,
   "id": "cccf66ed",
   "metadata": {},
   "outputs": [],
   "source": [
    "alpha: lambda = \n",
    "def sigma_distribuido(theta):\n",
    "\n",
    "  return (e_0*V_0/(2*np.pi*a)) * np.tan(theta/2)\n",
    "\n",
    "def sigma_concentrado(theta):\n",
    "\n",
    "  cte = e_0*V_0 / (2*np.pi*a)\n",
    "  abs = np.sin(0.5*(theta + alpha)) / np.sin(0.5*(theta - alpha))\n",
    "\n",
    "  return cte * (np.tan(0.5*theta) + (1/alpha)*np.log(np.abs(abs)))\n",
    "\n",
    "V_0 = 1 # V\n",
    "e_0 = constants.epsilon_0 # F/m\n",
    "a = 1 # m\n",
    "alpha = np.deg2rad(30) # 30 grados\n",
    "porcentaje = 0.95\n",
    "thetas = np.linspace(-np.pi*porcentaje, np.pi*porcentaje, 500)\n",
    "sigmas1 = sigma_concentrado(thetas)\n",
    "sigmas2 = sigma_distribuido(thetas)\n",
    "\n",
    "plt.figure(figsize=(12, 6))\n",
    "plt.xlabel(r' [rad]')\n",
    "plt.ylabel(r' ')\n",
    "plt.plot(thetas, sigmas1, c='b', label = 'Resistor concentrado')\n",
    "plt.plot(thetas, sigmas2, c = 'r', label = 'Resistor distribuido')\n",
    "plt.axvline(x=alpha, color='g', linestyle='--', label = r' ')\n",
    "plt.axvline(x=-alpha, color='g', linestyle='--')\n",
    "plt.grid()\n",
    "plt.legend()\n",
    "plt.savefig('sigma_dpi.png', dpi = 400)\n",
    "plt.show()\n"
   ]
  }
 ],
 "metadata": {
  "kernelspec": {
   "display_name": "Python 3 (ipykernel)",
   "language": "python",
   "name": "python3"
  },
  "language_info": {
   "codemirror_mode": {
    "name": "ipython",
    "version": 3
   },
   "file_extension": ".py",
   "mimetype": "text/x-python",
   "name": "python",
   "nbconvert_exporter": "python",
   "pygments_lexer": "ipython3",
   "version": "3.11.4"
  }
 },
 "nbformat": 4,
 "nbformat_minor": 5
}
